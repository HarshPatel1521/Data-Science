{
 "cells": [
  {
   "cell_type": "markdown",
   "id": "8be3b133",
   "metadata": {},
   "source": [
    "# Data Science Tools and Ecosystem"
   ]
  },
  {
   "cell_type": "markdown",
   "id": "029ac225",
   "metadata": {},
   "source": [
    "### In this notebook, Data Science Tools and Ecosystem are summarized."
   ]
  },
  {
   "cell_type": "markdown",
   "id": "da09864f",
   "metadata": {},
   "source": [
    "__Objectives:__\n",
    "\n",
    "* Add headings\n",
    "* Add Introduction\n",
    "* List Popular Languages\n",
    "* List common librariess\n",
    "* List open sourse tools\n",
    "* Perform arithmetic operation with comments"
   ]
  },
  {
   "cell_type": "markdown",
   "id": "ad113d56",
   "metadata": {},
   "source": [
    "#### Some of the popular languages in Data Science are:\n",
    "\n",
    "1. Python\n",
    "2. R\n",
    "3. SQL\n",
    "4. Julia"
   ]
  },
  {
   "cell_type": "markdown",
   "id": "83378dcf",
   "metadata": {},
   "source": [
    "#### Some of the commonly used libraries used by Data Scientists include:\n",
    "\n",
    "1. Pandas\n",
    "2. Seaborn\n",
    "3. ggplot\n",
    "4. Matplotlib"
   ]
  },
  {
   "cell_type": "markdown",
   "id": "7555640b",
   "metadata": {},
   "source": [
    "|Data Science Tools|\n",
    "|---|\n",
    "|WEKA|\n",
    "|RStudio|\n",
    "|Apache Spark SQL|"
   ]
  },
  {
   "cell_type": "markdown",
   "id": "bbcaae17",
   "metadata": {},
   "source": [
    "### Below are a few examples of evaluating arithmetic expressions in Python."
   ]
  },
  {
   "cell_type": "code",
   "execution_count": 1,
   "id": "66dcab21",
   "metadata": {},
   "outputs": [
    {
     "data": {
      "text/plain": [
       "17"
      ]
     },
     "execution_count": 1,
     "metadata": {},
     "output_type": "execute_result"
    }
   ],
   "source": [
    "#This is the simple arithmetic operation which does multiplication of '3' and '4' then add it to '5'.\n",
    "\n",
    "(3*4)+5"
   ]
  },
  {
   "cell_type": "code",
   "execution_count": 2,
   "id": "da730eeb",
   "metadata": {},
   "outputs": [
    {
     "data": {
      "text/plain": [
       "3.3333333333333335"
      ]
     },
     "execution_count": 2,
     "metadata": {},
     "output_type": "execute_result"
    }
   ],
   "source": [
    "#This cell will convert 200 minutes to hours by dividing it with 60.\n",
    "\n",
    "(200/60)"
   ]
  },
  {
   "cell_type": "markdown",
   "id": "1fa3830b",
   "metadata": {},
   "source": [
    "## Author\n",
    "Harsh Patel"
   ]
  }
 ],
 "metadata": {
  "kernelspec": {
   "display_name": "Python 3 (ipykernel)",
   "language": "python",
   "name": "python3"
  },
  "language_info": {
   "codemirror_mode": {
    "name": "ipython",
    "version": 3
   },
   "file_extension": ".py",
   "mimetype": "text/x-python",
   "name": "python",
   "nbconvert_exporter": "python",
   "pygments_lexer": "ipython3",
   "version": "3.10.9"
  }
 },
 "nbformat": 4,
 "nbformat_minor": 5
}
